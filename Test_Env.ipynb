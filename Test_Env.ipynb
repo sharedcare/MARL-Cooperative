{
 "cells": [
  {
   "cell_type": "code",
   "execution_count": 1,
   "metadata": {},
   "outputs": [
    {
     "name": "stdout",
     "output_type": "stream",
     "text": [
      "/Users/peng/MyProgram/venv_MLDL/bin/python\n"
     ]
    }
   ],
   "source": [
    "!which python"
   ]
  },
  {
   "cell_type": "code",
   "execution_count": 2,
   "metadata": {},
   "outputs": [],
   "source": [
    "import copy\n",
    "import glob\n",
    "import os\n",
    "import time\n",
    "import numpy as np\n",
    "import matplotlib.pyplot as plt\n",
    "from envs import GridWorldEnv, MGEnv, Agent\n",
    "from config import get_config"
   ]
  },
  {
   "cell_type": "code",
   "execution_count": 3,
   "metadata": {},
   "outputs": [],
   "source": [
    "args = get_config()"
   ]
  },
  {
   "cell_type": "code",
   "execution_count": 4,
   "metadata": {},
   "outputs": [
    {
     "data": {
      "text/plain": "{'algorithm_name': 'check',\n 'seed': 42,\n 'cuda': True,\n 'cuda_deterministic': True,\n 'n_training_threads': 1,\n 'n_rollout_threads': 1,\n 'num_env_steps': 10000000000.0,\n 'num_policy_candidates': 10,\n 'policy_finetune': False,\n 'policy_adaptive': False,\n 'naive_recurrent_policy': False,\n 'recurrent_policy': False,\n 'lstm': False,\n 'data_chunk_length': 10,\n 'critic_full_obs': False,\n 'env_name': 'StagHunt',\n 'num_agents': 2,\n 'limit_game': False,\n 'game_length': 10,\n 'history_length': 1,\n 'num_opponents': 3,\n 'reward_randomization': False,\n 'share_reward': False,\n 'shape_reward': False,\n 'shape_beta': 0.8,\n 'share_policy': False,\n 'hidden_size': 64,\n 'ppo_epoch': 10,\n 'use_clipped_value_loss': True,\n 'clip_param': 0.2,\n 'num_mini_batch': 32,\n 'entropy_coef': 0.01,\n 'value_loss_coef': 0.5,\n 'lr': 0.0007,\n 'eps': 1e-05,\n 'max_grad_norm': 0.5,\n 'use_gae': True,\n 'gamma': 0.99,\n 'gae_lambda': 0.95,\n 'use_proper_time_limits': False,\n 'episode_length': 10,\n 'use_linear_lr_decay': True,\n 'save_interval': 10,\n 'log_interval': 1,\n 'eval': False,\n 'save_gifs': False,\n 'ifi': 0.333333,\n 'eval_episodes': 100,\n 'model_dir': '/home/yuchao/project/'}"
     },
     "execution_count": 4,
     "metadata": {},
     "output_type": "execute_result"
    }
   ],
   "source": [
    "args"
   ]
  },
  {
   "cell_type": "code",
   "execution_count": 6,
   "metadata": {},
   "outputs": [
    {
     "data": {
      "text/plain": "2"
     },
     "execution_count": 6,
     "metadata": {},
     "output_type": "execute_result"
    }
   ],
   "source": [
    "args['num_agents']"
   ]
  },
  {
   "cell_type": "code",
   "execution_count": 1,
   "metadata": {},
   "outputs": [
    {
     "data": {
      "text/plain": "[4.6, 6.4]"
     },
     "execution_count": 1,
     "metadata": {},
     "output_type": "execute_result"
    }
   ],
   "source": [
    "shape_beta=0.1\n",
    "global_reward=10\n",
    "rewards = [4,6]\n",
    "num_agents = 2\n",
    "\n",
    "list(map(lambda x :x[0] * shape_beta + x[1] * (1-shape_beta), zip([global_reward] * num_agents, rewards)))"
   ]
  },
  {
   "cell_type": "code",
   "execution_count": 3,
   "metadata": {},
   "outputs": [
    {
     "data": {
      "text/plain": "[(10, 4), (10, 6)]"
     },
     "execution_count": 3,
     "metadata": {},
     "output_type": "execute_result"
    }
   ],
   "source": [
    "list(zip([global_reward] * num_agents, rewards))"
   ]
  },
  {
   "cell_type": "code",
   "execution_count": null,
   "metadata": {},
   "outputs": [],
   "source": []
  }
 ],
 "metadata": {
  "kernelspec": {
   "display_name": "Python 3.8.7 64-bit ('venv_MLDL': venv)",
   "name": "python387jvsc74a57bd030067dde8b6696326195dc0a35f330ecceff80492deacd8bd6e345548650fe71"
  },
  "language_info": {
   "codemirror_mode": {
    "name": "ipython",
    "version": 3
   },
   "file_extension": ".py",
   "mimetype": "text/x-python",
   "name": "python",
   "nbconvert_exporter": "python",
   "pygments_lexer": "ipython3",
   "version": "3.8.7"
  },
  "orig_nbformat": 2
 },
 "nbformat": 4,
 "nbformat_minor": 2
}